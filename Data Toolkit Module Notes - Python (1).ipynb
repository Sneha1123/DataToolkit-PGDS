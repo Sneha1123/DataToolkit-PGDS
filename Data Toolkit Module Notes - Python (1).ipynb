{
 "cells": [
  {
   "cell_type": "markdown",
   "metadata": {},
   "source": [
    "# Python\n",
    "- Programming Language - created by Guido Van Rossum in 1991\n",
    "- Runs on Interpreter - Runs code line by line"
   ]
  },
  {
   "cell_type": "code",
   "execution_count": 1,
   "metadata": {},
   "outputs": [
    {
     "data": {
      "text/plain": [
       "'Multi Line Comment'"
      ]
     },
     "execution_count": 1,
     "metadata": {},
     "output_type": "execute_result"
    }
   ],
   "source": [
    "'''Multi Line Comment'''"
   ]
  },
  {
   "cell_type": "code",
   "execution_count": 2,
   "metadata": {},
   "outputs": [
    {
     "name": "stdout",
     "output_type": "stream",
     "text": [
      "(0, 'a')\n",
      "(1, 'm')\n",
      "(2, 'a')\n",
      "(3, 'z')\n",
      "(4, 'o')\n",
      "(5, 'n')\n"
     ]
    }
   ],
   "source": [
    "# enumerate() -> prints index\n",
    "for i in enumerate('amazon'):\n",
    "    print(i)"
   ]
  },
  {
   "cell_type": "code",
   "execution_count": 3,
   "metadata": {},
   "outputs": [
    {
     "data": {
      "text/plain": [
       "'AAA'"
      ]
     },
     "execution_count": 3,
     "metadata": {},
     "output_type": "execute_result"
    }
   ],
   "source": [
    "# String *3 -> stringstringstring\n",
    "\"A\"*3"
   ]
  },
  {
   "cell_type": "code",
   "execution_count": 4,
   "metadata": {},
   "outputs": [
    {
     "name": "stdout",
     "output_type": "stream",
     "text": [
      "Enter age3\n"
     ]
    }
   ],
   "source": [
    "#To take input - returns string\n",
    "age = input(\"Enter age\")"
   ]
  },
  {
   "cell_type": "code",
   "execution_count": 5,
   "metadata": {},
   "outputs": [
    {
     "name": "stdout",
     "output_type": "stream",
     "text": [
      "<class 'int'>\n"
     ]
    }
   ],
   "source": [
    "# type() -> Find datatypes of variables\n",
    "type(age)\n",
    "\n",
    "# Convert string to integer\n",
    "age=int(age)\n",
    "print(type(age))\n"
   ]
  },
  {
   "cell_type": "markdown",
   "metadata": {},
   "source": [
    "Get this output when using type() with print() <br/>\n",
    "<class 'int'> <br/>\n",
    "<class 'float'> <br/>\n",
    "<class 'str'> <br/>\n",
    "<class 'bool'> <br/>"
   ]
  },
  {
   "cell_type": "markdown",
   "metadata": {},
   "source": [
    "### PEDMAS\n",
    "Parenthesis<br/>\n",
    "Exponential -> ** <br/>\n",
    "Division -> <br/>\n",
    "    / -> normal division<br/>\n",
    "    // -> Floor division<br/>\n",
    "Multiplication<br/>\n",
    "Addition<br/>\n",
    "Subtraction<br/>"
   ]
  },
  {
   "cell_type": "markdown",
   "metadata": {},
   "source": [
    "### Data Structure:\n",
    "Can hold data together<br/>\n",
    "Ways of organizing data so that it can be used efficiently <br/>\n",
    "Used to solve problems like: \n",
    "1. Storage\n",
    "2. Insert\n",
    "3. Delete\n",
    "4. Search\n",
    "5. Sort\n",
    "6. Traversing\n",
    "\n",
    "#### Types of DS:\n",
    "1. Primitive:\n",
    "    Int,FLoat,String,Boolean\n",
    "2. Non- Primitive: <br/>\n",
    "    List[] <br/>\n",
    "    Set {} <br/>\n",
    "    Tuple () <br/>\n",
    "    Dictionary {} "
   ]
  },
  {
   "cell_type": "markdown",
   "metadata": {},
   "source": [
    "## String:\n",
    "1. \\ -> to tell the its part of the string and not end of the string if its written in single quotes.\n",
    "2. \\n -> for next line\n",
    "3. Indexing of Strings:<br/>\n",
    "    Forward Indexing -> Indexing starts from 0<br/>\n",
    "    Negetive/Reverse Indexing -> Indexing starts from -1<br/>\n",
    "4. len() -> gives Length of the string\n",
    "5. Strings are immutable."
   ]
  },
  {
   "cell_type": "code",
   "execution_count": 6,
   "metadata": {},
   "outputs": [
    {
     "name": "stdout",
     "output_type": "stream",
     "text": [
      "0\n",
      "1\n",
      "3\n"
     ]
    }
   ],
   "source": [
    "#Difference between break and continue:\n",
    "#break - Terminates the loop when the particular condition is met.\n",
    "#continue - That part of the code is skipped when the particular condition is met.\n",
    "\n",
    "for x in range(4):\n",
    "    if(x==2):\n",
    "        continue\n",
    "    print(x)\n",
    "    "
   ]
  },
  {
   "cell_type": "code",
   "execution_count": 7,
   "metadata": {},
   "outputs": [
    {
     "name": "stdout",
     "output_type": "stream",
     "text": [
      "0\n",
      "1\n"
     ]
    }
   ],
   "source": [
    "#break example:\n",
    "for x in range(4):\n",
    "    if(x==2):\n",
    "        break\n",
    "    print(x)"
   ]
  },
  {
   "cell_type": "markdown",
   "metadata": {},
   "source": [
    "## String Operations:"
   ]
  },
  {
   "cell_type": "code",
   "execution_count": 8,
   "metadata": {},
   "outputs": [],
   "source": [
    "name = 'Sneha'"
   ]
  },
  {
   "cell_type": "code",
   "execution_count": 9,
   "metadata": {},
   "outputs": [
    {
     "data": {
      "text/plain": [
       "5"
      ]
     },
     "execution_count": 9,
     "metadata": {},
     "output_type": "execute_result"
    }
   ],
   "source": [
    "#gives Length of the string\n",
    "len(name)"
   ]
  },
  {
   "cell_type": "code",
   "execution_count": 42,
   "metadata": {},
   "outputs": [
    {
     "data": {
      "text/plain": [
       "['In',\n",
       " 'Lex',\n",
       " 'Out',\n",
       " '_',\n",
       " '_1',\n",
       " '_3',\n",
       " '_9',\n",
       " '__',\n",
       " '___',\n",
       " '__builtin__',\n",
       " '__builtins__',\n",
       " '__doc__',\n",
       " '__loader__',\n",
       " '__name__',\n",
       " '__package__',\n",
       " '__spec__',\n",
       " '_dh',\n",
       " '_i',\n",
       " '_i1',\n",
       " '_i10',\n",
       " '_i11',\n",
       " '_i12',\n",
       " '_i13',\n",
       " '_i14',\n",
       " '_i15',\n",
       " '_i16',\n",
       " '_i17',\n",
       " '_i18',\n",
       " '_i19',\n",
       " '_i2',\n",
       " '_i20',\n",
       " '_i21',\n",
       " '_i22',\n",
       " '_i23',\n",
       " '_i24',\n",
       " '_i25',\n",
       " '_i26',\n",
       " '_i27',\n",
       " '_i28',\n",
       " '_i29',\n",
       " '_i3',\n",
       " '_i30',\n",
       " '_i31',\n",
       " '_i32',\n",
       " '_i33',\n",
       " '_i34',\n",
       " '_i35',\n",
       " '_i36',\n",
       " '_i37',\n",
       " '_i38',\n",
       " '_i39',\n",
       " '_i4',\n",
       " '_i40',\n",
       " '_i41',\n",
       " '_i42',\n",
       " '_i5',\n",
       " '_i6',\n",
       " '_i7',\n",
       " '_i8',\n",
       " '_i9',\n",
       " '_ih',\n",
       " '_ii',\n",
       " '_iii',\n",
       " '_oh',\n",
       " 'age',\n",
       " 'exit',\n",
       " 'get_ipython',\n",
       " 'h',\n",
       " 'h1',\n",
       " 'i',\n",
       " 'list0',\n",
       " 'list1',\n",
       " 'list3',\n",
       " 'list4',\n",
       " 'list5',\n",
       " 'list6',\n",
       " 'name',\n",
       " 'newL',\n",
       " 'quit',\n",
       " 't',\n",
       " 'tu',\n",
       " 'tup0',\n",
       " 'tup1',\n",
       " 'tup2',\n",
       " 'tup3',\n",
       " 'tup4',\n",
       " 'tup5',\n",
       " 'tup6',\n",
       " 'x']"
      ]
     },
     "execution_count": 42,
     "metadata": {},
     "output_type": "execute_result"
    }
   ],
   "source": [
    "#To get help for string functions\n",
    "#help(str)\n",
    "dir() # to view all attributes of an object"
   ]
  },
  {
   "cell_type": "code",
   "execution_count": 28,
   "metadata": {},
   "outputs": [
    {
     "name": "stdout",
     "output_type": "stream",
     "text": [
      "Sneha\n",
      "a\n",
      "Sneh\n",
      "ah\n",
      "Sneha\n",
      "True\n",
      "___HI ALL##___\n",
      "___hi all##___\n",
      "Hi all##\n",
      "Hi all##\n",
      "___Hi all\n",
      "___Hi All##\n",
      "___Hi all##___,___Hi all##\n"
     ]
    }
   ],
   "source": [
    "#String Slicing:\n",
    "print(name[:]) # from start to end\n",
    "print(name[-1]) # gets last element\n",
    "print(name[:4])# gets all element from start to 3rd index bcz last index is excluded\n",
    "print(name[-1:2:-1]) # getting elements from end till -2 position \n",
    "print(name[0:]) # from zero to end\n",
    "\n",
    "#Membership -> when a substring is available in the mentioned string/not\n",
    "print('a' in name)\n",
    "\n",
    "#Other String methods:\n",
    "h=\"___Hi all##___\"\n",
    "h1=\"___Hi all##\"\n",
    "print(h.upper()) #To change all letters into uppercase\n",
    "print(h.lower())#To change all letters into lowercase\n",
    "print(h.strip(\"_\")) # To strip the occurance of a substring from both ends\n",
    "print(h1.lstrip(\"_\")) # To strip the occurance of a substring from left end\n",
    "print(h1.rstrip(\"#\"))  # To strip the occurance of a substring from right end\n",
    "print(h1.title()) # to get first letter of each word capitalized\n",
    "print(\"{},{}\".format(h,h1)) #To concatenate output as format string\n"
   ]
  },
  {
   "cell_type": "markdown",
   "metadata": {},
   "source": [
    "## Lists:\n",
    "1. Mutable - editable - values can be edited\n",
    "2. Dynamic - add/remove elements\n",
    "3. Compound nature - stores values of multiple datatypes"
   ]
  },
  {
   "cell_type": "code",
   "execution_count": 25,
   "metadata": {},
   "outputs": [
    {
     "name": "stdout",
     "output_type": "stream",
     "text": [
      "[]\n",
      "[1, 2, 3]\n",
      "[1, 2]\n",
      "[3, 4, ['hello', 6]]\n",
      "hello\n",
      "True\n",
      "True\n",
      "[1, 2, 3, 'hi', [4, 6]]\n",
      "None\n",
      "[1, 2, 3, 'hi', [4, 6]]\n",
      "[['hi', [4, 6]]]\n",
      "[1, 2, 3, 'hi', [4, 6]]\n",
      "[1, 'updated', 3, 'hi', [4, 6]]\n",
      "[1, 'updated', 3]\n",
      "[1, 'updated']\n",
      "[1]\n",
      "list4 before sorting [2, 4, 0, 3, 7, 6, 9]\n",
      "list4 after sorting asc [0, 2, 3, 4, 6, 7, 9]\n",
      "list4 after sorting desc [9, 7, 6, 4, 3, 2, 0]\n",
      "[9, 7, 6, 4, 3, 2, 0]\n",
      "[0, 2, 3, 4, 6, 7, 9]\n",
      "[0, 2, 3, 4, 6, 7, 9]\n",
      "[0, 2, 3, 4, 6, 7, 9]\n",
      "['hello', 2, 3, 4, 6, 7, 9]\n"
     ]
    }
   ],
   "source": [
    "#List Methods:\n",
    "#Defining a list\n",
    "list0=[] \n",
    "list1 = [1,2,3]\n",
    "list3=[1,2,[3,4,[\"hello\",6]]]\n",
    "print(list0)\n",
    "print(list1)\n",
    "\n",
    "#List indexing and slicing\n",
    "print(list1[0:2])\n",
    "print(list3[2])\n",
    "print(list3[2][2][0])\n",
    "\n",
    "#Membership:\n",
    "print(2 in list3) \n",
    "print(3 in list3[2])\n",
    "\n",
    "#Concatenation: -> need to create a new list\n",
    "newL= list1+[\"hi\",[4,6]]\n",
    "print(newL)\n",
    "\n",
    "#Extend -> Changes made in the original list only\n",
    "Lex=list1.extend([\"hi\",[4,6]])\n",
    "print(Lex)\n",
    "print(list1)\n",
    "\n",
    "#Append -> takes the list and add it as an entire list.\n",
    "list0.append([\"hi\",[4,6]])\n",
    "print(list0)\n",
    "\n",
    "#Replace data -> checking mutability property:\n",
    "print(list1)\n",
    "list1[1]=\"updated\"\n",
    "print(list1)\n",
    "\n",
    "#Delete\n",
    "del list1[-1:2:-1]\n",
    "print(list1)\n",
    "\n",
    "#Pop() -> Removes last element\n",
    "list1.pop()\n",
    "print(list1)\n",
    "\n",
    "#remove() -> removes the first occurance of the value\n",
    "list1.remove('updated')\n",
    "print(list1)\n",
    "\n",
    "#Sorting \n",
    "list4=[2,4,0,3,7,6,9]\n",
    "print('list4 before sorting',list4)\n",
    "list4.sort() #Original list is sorted\n",
    "print('list4 after sorting asc',list4)\n",
    "list4.sort(reverse=True)\n",
    "print('list4 after sorting desc',list4)\n",
    "\n",
    "list5=sorted(list4) #Original list is not sorted\n",
    "print(list4)\n",
    "print(list5)\n",
    "\n",
    "#to prevent shallow copying:\n",
    "list6=list5[:]\n",
    "print(list6)\n",
    "list6[0]=\"hello\"\n",
    "print(list5)\n",
    "print(list6)"
   ]
  },
  {
   "cell_type": "markdown",
   "metadata": {},
   "source": [
    "## Tuples:\n",
    "1. Fastest of all\n",
    "2. Compound nature\n",
    "3. Read-only"
   ]
  },
  {
   "cell_type": "code",
   "execution_count": 45,
   "metadata": {},
   "outputs": [
    {
     "name": "stdout",
     "output_type": "stream",
     "text": [
      "(1,)\n",
      "('hi', 5, 6)\n",
      "(9, 4, 'hello')\n",
      "(9, 7, (8, 9, ('oo', 99)))\n",
      "3\n",
      "<class 'tuple'>\n",
      "<class 'tuple'>\n",
      "['__add__', '__class__', '__contains__', '__delattr__', '__dir__', '__doc__', '__eq__', '__format__', '__ge__', '__getattribute__', '__getitem__', '__getnewargs__', '__gt__', '__hash__', '__init__', '__init_subclass__', '__iter__', '__le__', '__len__', '__lt__', '__mul__', '__ne__', '__new__', '__reduce__', '__reduce_ex__', '__repr__', '__rmul__', '__setattr__', '__sizeof__', '__str__', '__subclasshook__', 'count', 'index']\n",
      "('hi', 5)\n",
      "oo\n",
      "('hi', 5, 6, 9, 4, 'hello')\n",
      "0\n",
      "5\n",
      "8\n",
      "('hi', 5, 'changed', 9, 4, 'hello')\n",
      "tup4 before sorting (2, 5, 1, 0)\n",
      "tup4 after sorting asc (0, 1, 2, 5)\n"
     ]
    }
   ],
   "source": [
    "# Tuple methods:\n",
    "#Tuple creation:\n",
    "t=()# empty tuple -> python considers an an object\n",
    "tup0=1, #single value tuple\n",
    "tup1=(\"hi\",5,6)\n",
    "tup2=9,4,\"hello\"\n",
    "tu=(9,7,(8,9,(\"oo\",99)))\n",
    "print(tup0)\n",
    "print(tup1)\n",
    "print(tup2)\n",
    "print(tu)\n",
    "print(len(tup1))\n",
    "print(type(tu))\n",
    "print(type(t))\n",
    "print(dir(t)) # gives all attributes/methods that can be used\n",
    "\n",
    "#Slicing and indexing:\n",
    "print(tup1[0:2])\n",
    "print(tu[2][2][0])\n",
    "\n",
    "#Concatenation: -> creates new tuple\n",
    "tup3=tup1+tup2\n",
    "print(tup3)\n",
    "\n",
    "#Methods for tuples with only numbers:\n",
    "tup4=(2,5,1,0)\n",
    "print(min(tup4))\n",
    "print(max(tup4))\n",
    "print(sum(tup4))\n",
    "\n",
    "#Use concatenation and slicing together to perform mutation -> change 6 from tup3 to \"changed\"\n",
    "tup5=tup3[0:2]+(\"changed\",)+tup3[3:]\n",
    "print(tup5)\n",
    "\n",
    "#Sorting:\n",
    "print('tup4 before sorting',tup4)\n",
    "tup6=sorted(tup4) #Original list is sorted\n",
    "print('tup4 after sorting asc',tuple(tup6)) # cant use sort() bcz immutable nature and tuple function used to convert from list to tuple as sorted() returns list.\n",
    "\n",
    "#packing unpacking:\n",
    "#Consider a situation where we have a function that receives four arguments. We want to make a call to this function and we have a list of size 4 with us that has all arguments for the function. If we simply pass a list to the function, the call doesn’t work.\n",
    "def fun(a, b, c, d):\n",
    "    print(a, b, c, d)\n",
    "    \n",
    "my_list = [1, 2, 3, 4]\n",
    " \n",
    "#fun(my_list) -> This doesn't work ->TypeError: fun() takes exactly 4 arguments (1 given)\n",
    "#fun(*my_list) -> This works -> Unpacking list into four arguments\n"
   ]
  },
  {
   "cell_type": "markdown",
   "metadata": {},
   "source": [
    "## Sets:\n",
    "1. Fast search and duplicacy.\n",
    "2. Mutable.\n",
    "3. unordered but sorted\n",
    "4. As unordered therefore does not support indexing"
   ]
  },
  {
   "cell_type": "code",
   "execution_count": 54,
   "metadata": {},
   "outputs": [
    {
     "name": "stdout",
     "output_type": "stream",
     "text": [
      "{}\n",
      "{2, 3, 5}\n",
      "3\n",
      "{2, 3, 5, 'hi'}\n",
      "{2, 5, 'hi'}\n",
      "{2, 3, 5, 6, 7, 8, 'hi'}\n",
      "{2}\n",
      "{'hi', 5}\n",
      "{'hi', 3, 5, 6, 7, 8}\n"
     ]
    }
   ],
   "source": [
    "#Sets methods:\n",
    "set0={}\n",
    "set1={2,3,5,5}\n",
    "print(set0)\n",
    "print(set1)\n",
    "print(len(set1))\n",
    "\n",
    "#Add elements to set:\n",
    "set1.add(\"hi\")\n",
    "print(set1)\n",
    "\n",
    "#Remove elements from set:\n",
    "set1.remove(3)\n",
    "print(set1)\n",
    "\n",
    "#Set Operations:\n",
    "set2={2,3,6,7,8}\n",
    "print(set1|set2) # union -> print(set1.union(set2))\n",
    "print(set1&set2) # intersection -> print(set1.intersection(set2))\n",
    "print(set1-set2) #Difference -> removes set2 from set1 -> print(set1.difference(set2))\n",
    "print(set1^set2) # Symmetric Difference -> basically means from union remove the intersection value"
   ]
  },
  {
   "cell_type": "markdown",
   "metadata": {},
   "source": [
    "## Dictionary:\n",
    "1. Store key-value pair.\n",
    "2. keys are unique and immutable and hence cant use set, list, dictionary as keys."
   ]
  },
  {
   "cell_type": "code",
   "execution_count": null,
   "metadata": {},
   "outputs": [],
   "source": []
  }
 ],
 "metadata": {
  "kernelspec": {
   "display_name": "Python 3",
   "language": "python",
   "name": "python3"
  },
  "language_info": {
   "codemirror_mode": {
    "name": "ipython",
    "version": 3
   },
   "file_extension": ".py",
   "mimetype": "text/x-python",
   "name": "python",
   "nbconvert_exporter": "python",
   "pygments_lexer": "ipython3",
   "version": "3.8.5"
  }
 },
 "nbformat": 4,
 "nbformat_minor": 4
}
